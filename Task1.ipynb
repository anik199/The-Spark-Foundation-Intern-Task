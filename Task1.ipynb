{
  "nbformat": 4,
  "nbformat_minor": 0,
  "metadata": {
    "colab": {
      "name": "Task1.ipynb",
      "private_outputs": true,
      "provenance": [],
      "authorship_tag": "ABX9TyOun9iMvHwm9ByHd9lUHd5I",
      "include_colab_link": true
    },
    "kernelspec": {
      "name": "python3",
      "display_name": "Python 3"
    },
    "language_info": {
      "name": "python"
    }
  },
  "cells": [
    {
      "cell_type": "markdown",
      "metadata": {
        "id": "view-in-github",
        "colab_type": "text"
      },
      "source": [
        "<a href=\"https://colab.research.google.com/github/anik199/The-Spark-Foundation-Intern-Task/blob/main/Task1.ipynb\" target=\"_parent\"><img src=\"https://colab.research.google.com/assets/colab-badge.svg\" alt=\"Open In Colab\"/></a>"
      ]
    },
    {
      "cell_type": "code",
      "execution_count": null,
      "metadata": {
        "id": "2USxo8ee9-N_"
      },
      "outputs": [],
      "source": [
        "# Importing the required libraries\n",
        "from sklearn.model_selection import train_test_split \n",
        "from sklearn.linear_model import LinearRegression\n",
        "import matplotlib.pyplot as plt\n",
        "import pandas as pd\n",
        "import numpy as np \n",
        "import seaborn as sns"
      ]
    },
    {
      "cell_type": "code",
      "source": [
        "# Read data from remote link\n",
        "df_data = pd.read_csv(\"http://bit.ly/w-data\")\n",
        "print(\"import successful\")\n",
        "\n",
        "df_data.head()"
      ],
      "metadata": {
        "id": "2hQchrOw-1UM"
      },
      "execution_count": null,
      "outputs": []
    },
    {
      "cell_type": "code",
      "source": [
        "#Get Data information\n",
        "df_data.info()"
      ],
      "metadata": {
        "id": "LE0CTF4tAO7w"
      },
      "execution_count": null,
      "outputs": []
    },
    {
      "cell_type": "code",
      "source": [
        "# Plotting the Data\n",
        "sns.regplot(x=df_data['Hours'], y=df_data['Scores'])\n",
        "plt.title('Hours vs Percentage')  "
      ],
      "metadata": {
        "id": "X77D4tL3AjXU"
      },
      "execution_count": null,
      "outputs": []
    },
    {
      "cell_type": "code",
      "source": [
        "X = df_data.iloc[:, :-1].values  \n",
        "y = df_data.iloc[:, 1].values \n",
        "\n",
        "# Split data train and test sets\n",
        "X_train, X_test, y_train, y_test = train_test_split(X, y, train_size=0.8,test_size=0.2, random_state=0)"
      ],
      "metadata": {
        "id": "j8FQqIIwFK0g"
      },
      "execution_count": null,
      "outputs": []
    },
    {
      "cell_type": "code",
      "source": [
        "# Define Model \n",
        "model = LinearRegression()  \n",
        "model.fit(X_train, y_train) "
      ],
      "metadata": {
        "id": "qEd3rYy2ByMy"
      },
      "execution_count": null,
      "outputs": []
    },
    {
      "cell_type": "code",
      "source": [
        "# Model Prediction \n",
        "y_pred = model.predict(X_test)\n",
        "print(X_test)"
      ],
      "metadata": {
        "id": "usa5fb6sHjtS"
      },
      "execution_count": null,
      "outputs": []
    },
    {
      "cell_type": "code",
      "source": [
        "actual_vs_pred_plot(y_test,y_pred)"
      ],
      "metadata": {
        "id": "M9y9kR-vIGFs"
      },
      "execution_count": null,
      "outputs": []
    }
  ]
}