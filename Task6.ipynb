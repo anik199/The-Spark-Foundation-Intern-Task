{
  "nbformat": 4,
  "nbformat_minor": 0,
  "metadata": {
    "colab": {
      "name": "Task6.ipynb",
      "private_outputs": true,
      "provenance": [],
      "authorship_tag": "ABX9TyPbr+kJre0JH+cf0zh9DwRI",
      "include_colab_link": true
    },
    "kernelspec": {
      "name": "python3",
      "display_name": "Python 3"
    },
    "language_info": {
      "name": "python"
    }
  },
  "cells": [
    {
      "cell_type": "markdown",
      "metadata": {
        "id": "view-in-github",
        "colab_type": "text"
      },
      "source": [
        "<a href=\"https://colab.research.google.com/github/anik199/The-Spark-Foundation-Intern-Task/blob/main/Task6.ipynb\" target=\"_parent\"><img src=\"https://colab.research.google.com/assets/colab-badge.svg\" alt=\"Open In Colab\"/></a>"
      ]
    },
    {
      "cell_type": "code",
      "execution_count": null,
      "metadata": {
        "id": "6cqasJypymZc"
      },
      "outputs": [],
      "source": [
        "# Importing the required Libraries\n",
        "import pandas as pd\n",
        "import numpy as np\n",
        "import seaborn as sns\n",
        "\n",
        "import matplotlib.pyplot as plt\n",
        "import pydot\n",
        "from IPython.display import Image\n",
        "\n",
        "from sklearn.datasets import load_iris\n",
        "from sklearn.tree import DecisionTreeClassifier, export_graphviz\n",
        "from sklearn.model_selection import train_test_split\n",
        "import sklearn.metrics as sm\n",
        "\n"
      ]
    },
    {
      "cell_type": "code",
      "source": [
        "# Loading Dataset\n",
        "df_data = pd.read_csv(\"/content/Iris.csv\")"
      ],
      "metadata": {
        "id": "dH6ggQuUypRH"
      },
      "execution_count": null,
      "outputs": []
    },
    {
      "cell_type": "code",
      "source": [
        "#Basic Information regarding data\n",
        "df_data.info()"
      ],
      "metadata": {
        "id": "7Vg1aFbU1Hpk"
      },
      "execution_count": null,
      "outputs": []
    },
    {
      "cell_type": "code",
      "source": [
        "#Describe function gives the basic numerical info about data for each numeric feature.\n",
        "df_data.describe()"
      ],
      "metadata": {
        "id": "5R-8ahQY1OvH"
      },
      "execution_count": null,
      "outputs": []
    },
    {
      "cell_type": "code",
      "source": [
        "#Checking top 10 records of Dataset..\n",
        "df_data.head()"
      ],
      "metadata": {
        "id": "IeKE2dmF01UG"
      },
      "execution_count": null,
      "outputs": []
    },
    {
      "cell_type": "code",
      "source": [
        "#Data points count value for each class labels..\n",
        "df_data.Species.value_counts()"
      ],
      "metadata": {
        "id": "basAF9C511fs"
      },
      "execution_count": null,
      "outputs": []
    },
    {
      "cell_type": "code",
      "source": [
        "plt.scatter(df_data['SepalLengthCm'],df_data['SepalWidthCm'])\n",
        "plt.show()"
      ],
      "metadata": {
        "id": "qk0XF9Xv2NiI"
      },
      "execution_count": null,
      "outputs": []
    },
    {
      "cell_type": "code",
      "source": [
        "#\n",
        "sns.lmplot(x=\"SepalLengthCm\", y=\"SepalWidthCm\", hue=\"Species\", data = df_data, \\\n",
        "              palette=\"Set1\", fit_reg=False, markers=[\"o\", \"s\", \"D\"])"
      ],
      "metadata": {
        "id": "KG9aDrx559iD"
      },
      "execution_count": null,
      "outputs": []
    },
    {
      "cell_type": "code",
      "source": [
        "#\n",
        "sns.lmplot(x=\"SepalLengthCm\", y=\"SepalWidthCm\", hue=\"Species\", data = df_data, \\\n",
        "              palette=\"Set1\", markers=[\"o\", \"s\", \"D\"])"
      ],
      "metadata": {
        "id": "n5uHADSa5dn7"
      },
      "execution_count": null,
      "outputs": []
    },
    {
      "cell_type": "code",
      "source": [
        "# Input data Visualization\n",
        "sns.pairplot(df_data.drop(['Id'],axis=1), hue='Species')\n",
        "plt.show()"
      ],
      "metadata": {
        "id": "kGxH8XRNy4l4"
      },
      "execution_count": null,
      "outputs": []
    },
    {
      "cell_type": "code",
      "source": [
        "X=df_data[['SepalLengthCm', 'SepalWidthCm','PetalLengthCm', 'PetalWidthCm']]\n",
        "y=df_data['Species']"
      ],
      "metadata": {
        "id": "K7ijPJUO-Yh0"
      },
      "execution_count": null,
      "outputs": []
    },
    {
      "cell_type": "code",
      "source": [
        "# Model Training\n",
        "X_train, X_test, y_train, y_test = train_test_split(X, y, test_size=0.1, random_state=1) \n",
        "model = DecisionTreeClassifier()\n",
        "model.fit(X_train,y_train)\n",
        "print(\"Training Complete.\")\n",
        "y_pred = model.predict(X_test)"
      ],
      "metadata": {
        "id": "gR9Ce7zAy4gt"
      },
      "execution_count": null,
      "outputs": []
    },
    {
      "cell_type": "code",
      "source": [
        "df = pd.DataFrame({'Actual': y_test, 'Predicted': y_pred}) \n",
        "df "
      ],
      "metadata": {
        "id": "33aBXkqIy4c3"
      },
      "execution_count": null,
      "outputs": []
    },
    {
      "cell_type": "code",
      "source": [
        "# Model Accuracy\n",
        "print(\"Accuracy:\",sm.accuracy_score(y_test, y_pred))"
      ],
      "metadata": {
        "id": "7rlEW4wWy4Po"
      },
      "execution_count": null,
      "outputs": []
    },
    {
      "cell_type": "code",
      "source": [
        "#Visualizing the trained Decision Tree Classifier taking all 4 features in consideration\n",
        "\n",
        "export_graphviz(\n",
        "        model,\n",
        "        out_file=\"tree.dot\",\n",
        "        feature_names=iris.feature_names[:],\n",
        "        class_names=iris.target_names,\n",
        "        rounded=True,\n",
        "        filled=True\n",
        ")\n",
        "\n",
        "(graph,) = pydot.graph_from_dot_file('tree.dot')\n",
        "graph.write_png('tree.png')\n",
        "\n",
        "Image(filename='tree.png') "
      ],
      "metadata": {
        "id": "mXBMpePsAAbk"
      },
      "execution_count": null,
      "outputs": []
    }
  ]
}