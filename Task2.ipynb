{
  "nbformat": 4,
  "nbformat_minor": 0,
  "metadata": {
    "colab": {
      "name": "Task2.ipynb",
      "private_outputs": true,
      "provenance": [],
      "collapsed_sections": [],
      "authorship_tag": "ABX9TyN9It4IL77Tyhzf6WcyI8HW",
      "include_colab_link": true
    },
    "kernelspec": {
      "name": "python3",
      "display_name": "Python 3"
    },
    "language_info": {
      "name": "python"
    }
  },
  "cells": [
    {
      "cell_type": "markdown",
      "metadata": {
        "id": "view-in-github",
        "colab_type": "text"
      },
      "source": [
        "<a href=\"https://colab.research.google.com/github/anik199/The-Spark-Foundation-Intern-Task/blob/main/Task2.ipynb\" target=\"_parent\"><img src=\"https://colab.research.google.com/assets/colab-badge.svg\" alt=\"Open In Colab\"/></a>"
      ]
    },
    {
      "cell_type": "markdown",
      "source": [
        "## GRIP @ The Sparks Foundation\n",
        "####Author : Anik Kumar\n",
        "> **Task2 : Prediction using Unsupervised Machine Learning**"
      ],
      "metadata": {
        "id": "KfZ4w2aDMa1M"
      }
    },
    {
      "cell_type": "markdown",
      "source": [
        "### Import Required Library"
      ],
      "metadata": {
        "id": "WN2qlMcf1Jkb"
      }
    },
    {
      "cell_type": "code",
      "execution_count": null,
      "metadata": {
        "id": "mHjYIZ_bdTp-"
      },
      "outputs": [],
      "source": [
        "from sklearn import datasets\n",
        "import pandas as pd\n",
        "import numpy as np\n",
        "from sklearn.cluster import KMeans\n",
        "import matplotlib.patches as mpatches\n",
        "import matplotlib.pyplot as plt\n",
        "import sklearn.metrics as sm\n",
        "from mpl_toolkits.mplot3d import Axes3D\n",
        "from scipy.cluster.hierarchy import linkage,dendrogram\n",
        "from sklearn.cluster import DBSCAN \n",
        "from sklearn.decomposition import PCA \n"
      ]
    },
    {
      "cell_type": "markdown",
      "source": [
        "### Load Datasets"
      ],
      "metadata": {
        "id": "u4tU2gAd1iOP"
      }
    },
    {
      "cell_type": "code",
      "source": [
        "#Data load from sklearn\n",
        "iris = datasets.load_iris()"
      ],
      "metadata": {
        "id": "eYODj6HidXze"
      },
      "execution_count": null,
      "outputs": []
    },
    {
      "cell_type": "code",
      "source": [
        "print(iris.target_names)"
      ],
      "metadata": {
        "id": "GrJdnvHl6-IL"
      },
      "execution_count": null,
      "outputs": []
    },
    {
      "cell_type": "code",
      "source": [
        "print(iris.data)"
      ],
      "metadata": {
        "id": "3SpNOWJ44Dm8"
      },
      "execution_count": null,
      "outputs": []
    },
    {
      "cell_type": "code",
      "source": [
        "print(iris.target)"
      ],
      "metadata": {
        "id": "tCpKAIP5jJkI"
      },
      "execution_count": null,
      "outputs": []
    },
    {
      "cell_type": "code",
      "source": [
        "x = iris.data\n",
        "y = iris.target"
      ],
      "metadata": {
        "id": "3U8RtDtkjCAQ"
      },
      "execution_count": null,
      "outputs": []
    },
    {
      "cell_type": "markdown",
      "source": [
        "###Data Preprocesing"
      ],
      "metadata": {
        "id": "Y-MBL9x30rpq"
      }
    },
    {
      "cell_type": "code",
      "source": [
        "x = pd.DataFrame(iris.data, columns=['Sepal Length', 'Sepal Width', 'Petal Length', 'Petal Width'])\n",
        "y = pd.DataFrame(iris.target, columns=['Target'])\n",
        "print(x.head())\n",
        "print(y.head())"
      ],
      "metadata": {
        "id": "fmoes8pm8tRX"
      },
      "execution_count": null,
      "outputs": []
    },
    {
      "cell_type": "markdown",
      "source": [
        "### Finding the Optimal Clusters"
      ],
      "metadata": {
        "id": "7QgL8Sht08R9"
      }
    },
    {
      "cell_type": "code",
      "source": [
        "wcss = []\n",
        "\n",
        "for k in range(1,15):\n",
        "    kmeans = KMeans(n_clusters=k)\n",
        "    kmeans.fit(x)\n",
        "    wcss.append(kmeans.inertia_)\n",
        "\n",
        "\n",
        "plt.figure(figsize=(10,5))\n",
        "plt.title(\"WCSS / K Chart\", fontsize=18)\n",
        "plt.plot(range(1,15),wcss,\"-o\")\n",
        "plt.grid(True)\n",
        "plt.xlabel(\"Amount of Clusters\",fontsize=14)\n",
        "plt.ylabel(\"Inertia\",fontsize=14)\n",
        "plt.xticks(range(1,16))\n",
        "plt.tight_layout()\n",
        "plt.show()"
      ],
      "metadata": {
        "id": "g8w35G7KkBoQ"
      },
      "execution_count": null,
      "outputs": []
    },
    {
      "cell_type": "markdown",
      "source": [
        "### Model Fit"
      ],
      "metadata": {
        "id": "jjDkKdd_1uFX"
      }
    },
    {
      "cell_type": "code",
      "source": [
        "iris_k_mean_model = KMeans(n_clusters=3)\n",
        "iris_k_mean_model.fit(x)"
      ],
      "metadata": {
        "id": "DPDj4aM-daLS"
      },
      "execution_count": null,
      "outputs": []
    },
    {
      "cell_type": "code",
      "source": [
        "print(iris_k_mean_model.labels_)"
      ],
      "metadata": {
        "id": "lEvN7LIyxQvS"
      },
      "execution_count": null,
      "outputs": []
    },
    {
      "cell_type": "code",
      "source": [
        "print(iris_k_mean_model.cluster_centers_)"
      ],
      "metadata": {
        "id": "5-EfzIcjln5C"
      },
      "execution_count": null,
      "outputs": []
    },
    {
      "cell_type": "markdown",
      "source": [
        "### Before Clusters vs After Clusters"
      ],
      "metadata": {
        "id": "s0v38JlM2Aah"
      }
    },
    {
      "cell_type": "code",
      "source": [
        "plt.figure(figsize=(10,5))\n",
        "colors = np.array(['red', 'green', 'blue'])\n",
        "y_pred = np.choose(iris_k_mean_model.labels_, [1, 0, 2]).astype(np.int64)\n",
        "\n",
        "plt.subplot(1, 2, 1)\n",
        "plt.scatter(x['Petal Length'], x['Petal Width'], c=colors[y['Target']])\n",
        "plt.title('Before classification')\n",
        "red_patch = mpatches.Patch(color='red', label='Setosa')\n",
        "blue_patch = mpatches.Patch(color='blue', label= 'Versicolor')\n",
        "green_patch = mpatches.Patch(color='green', label= 'Virginica')\n",
        "plt.legend(handles=[red_patch, green_patch, blue_patch])\n",
        "\n",
        "plt.subplot(1, 2, 2)\n",
        "plt.scatter(x['Petal Length'], x['Petal Width'], c=colors[y_pred])\n",
        "plt.title(\"Model's classification\")\n",
        "plt.legend(handles=[red_patch, green_patch, blue_patch])"
      ],
      "metadata": {
        "id": "f-I_ZB25lwYh"
      },
      "execution_count": null,
      "outputs": []
    },
    {
      "cell_type": "markdown",
      "source": [
        "###Accuracy and Confusion Matrix"
      ],
      "metadata": {
        "id": "sfnYu7tZ2aKA"
      }
    },
    {
      "cell_type": "code",
      "source": [
        "sm.accuracy_score(y_pred, y['Target'])"
      ],
      "metadata": {
        "id": "RA8sr9eWoxXo"
      },
      "execution_count": null,
      "outputs": []
    },
    {
      "cell_type": "code",
      "source": [
        "sm.confusion_matrix(y_pred, y['Target'])"
      ],
      "metadata": {
        "id": "ibkZzDwSo5wM"
      },
      "execution_count": null,
      "outputs": []
    },
    {
      "cell_type": "markdown",
      "source": [
        "<h3 align=\"center\">Thank You</h3>"
      ],
      "metadata": {
        "id": "Q5dT72dIMkJ4"
      }
    }
  ]
}